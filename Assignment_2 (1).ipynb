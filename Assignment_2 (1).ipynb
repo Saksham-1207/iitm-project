{
  "nbformat": 4,
  "nbformat_minor": 0,
  "metadata": {
    "colab": {
      "provenance": []
    },
    "kernelspec": {
      "name": "python3",
      "display_name": "Python 3"
    },
    "language_info": {
      "name": "python"
    }
  },
  "cells": [
    {
      "cell_type": "code",
      "execution_count": 1,
      "metadata": {
        "colab": {
          "base_uri": "https://localhost:8080/"
        },
        "id": "vD6367jA_r7f",
        "outputId": "19d1ce6f-bf4a-4974-aa7c-112eea6ae619"
      },
      "outputs": [
        {
          "output_type": "stream",
          "name": "stdout",
          "text": [
            "Enter a string:Saksham\n",
            "Reversed String: mahskaS\n"
          ]
        }
      ],
      "source": [
        "# Reverse a String\n",
        "string = input('Enter a string:')\n",
        "reversed_string = string[::-1]\n",
        "print(\"Reversed String:\", reversed_string)\n"
      ]
    },
    {
      "cell_type": "code",
      "source": [
        "#Check for Palindrome\n",
        "string = input(\"Enter a string: \")\n",
        "cleaned_string = string.replace(\" \", \"\").lower()\n",
        "if cleaned_string == cleaned_string[::-1]:\n",
        "    print(\"It is a palindrome.\")\n",
        "else:\n",
        "    print(\"It is not a palindrome.\")\n"
      ],
      "metadata": {
        "colab": {
          "base_uri": "https://localhost:8080/"
        },
        "id": "zk22wd5pAjIF",
        "outputId": "bbac86a5-f36d-4d50-aeb9-262b91bbd01f"
      },
      "execution_count": null,
      "outputs": [
        {
          "output_type": "stream",
          "name": "stdout",
          "text": [
            "Enter a string: madam\n",
            "It is a palindrome.\n"
          ]
        }
      ]
    },
    {
      "cell_type": "code",
      "source": [
        "#Find factorial\n",
        "def factorial(n):\n",
        "    if n == 0 or n == 1:\n",
        "        return 1\n",
        "    else:\n",
        "        return n * factorial(n - 1)\n",
        "num = int(input(\"Enter a number: \"))\n",
        "if num < 0:\n",
        "    print(\"Factorial does not exist for negative numbers.\")\n",
        "else:\n",
        "    print(f\"Factorial of {num} is {factorial(num)}\")\n"
      ],
      "metadata": {
        "colab": {
          "base_uri": "https://localhost:8080/"
        },
        "id": "ZBufg2JmA_bv",
        "outputId": "484730c9-1d64-4927-dfb0-1e9d08fa6c9b"
      },
      "execution_count": null,
      "outputs": [
        {
          "output_type": "stream",
          "name": "stdout",
          "text": [
            "Enter a number: 17\n",
            "Factorial of 17 is 355687428096000\n"
          ]
        }
      ]
    },
    {
      "cell_type": "code",
      "source": [
        "#fibonacci series\n",
        "def fibonacci(n):\n",
        "  a, b = 0, 1\n",
        "  fib_series = []\n",
        "  while a < n:\n",
        "    fib_series.append(a)\n",
        "    a, b = b, a + b\n",
        "  return fib_series\n",
        "num = int(input(\"Enter the limit for the Fibonacci series: \"))\n",
        "print(f\"Fibonacci series up to {num}: {fibonacci(num)}\")"
      ],
      "metadata": {
        "colab": {
          "base_uri": "https://localhost:8080/"
        },
        "id": "5l-3ERr7BTU_",
        "outputId": "6e56ee5c-1d98-4d67-a3ff-86ff40ed1816"
      },
      "execution_count": null,
      "outputs": [
        {
          "output_type": "stream",
          "name": "stdout",
          "text": [
            "Enter the limit for the Fibonacci series: 12\n",
            "Fibonacci series up to 12: [0, 1, 1, 2, 3, 5, 8]\n"
          ]
        }
      ]
    },
    {
      "cell_type": "code",
      "source": [
        "#Check if a number is prime\n",
        "num = int(input(\"Enter a number: \"))\n",
        "if num <= 1:\n",
        "    print(\"Not a prime number.\")\n",
        "else:\n",
        "    is_prime = True\n",
        "    for i in range(2, int(num**0.5) + 1):\n",
        "        if num % i == 0:\n",
        "            is_prime = False\n",
        "            break\n",
        "    if is_prime:\n",
        "        print(\"It is a prime number.\")\n",
        "    else:\n",
        "        print(\"\\It is not a prime number.\")\n"
      ],
      "metadata": {
        "colab": {
          "base_uri": "https://localhost:8080/"
        },
        "id": "g4TEbGyRBjsv",
        "outputId": "b6beb809-5aae-4b2b-a0da-69e88b84300a"
      },
      "execution_count": null,
      "outputs": [
        {
          "output_type": "stream",
          "name": "stdout",
          "text": [
            "Enter a number: 59\n",
            "It is a prime number.\n"
          ]
        }
      ]
    },
    {
      "cell_type": "code",
      "source": [
        "#Find GCD of two numbers\n",
        "num1 = int(input(\"Enter first number: \"))\n",
        "num2 = int(input(\"Enter second number: \"))\n",
        "gcd = 1\n",
        "for i in range(1, min(num1, num2) + 1):\n",
        "    if num1 % i == 0 and num2 % i == 0:\n",
        "        gcd = i\n",
        "\n",
        "print(f\"✅ GCD of {num1} and {num2} is {gcd}\")\n"
      ],
      "metadata": {
        "colab": {
          "base_uri": "https://localhost:8080/"
        },
        "id": "nPc-Cb1SB5tS",
        "outputId": "557fa9fa-9b00-476b-e77b-1a4f7c53c85a"
      },
      "execution_count": null,
      "outputs": [
        {
          "output_type": "stream",
          "name": "stdout",
          "text": [
            "Enter first number: 59\n",
            "Enter second number: 3\n",
            "✅ GCD of 59 and 3 is 1\n"
          ]
        }
      ]
    },
    {
      "cell_type": "code",
      "source": [
        "#Count vowels\n",
        "string = input(\"Enter a string: \")\n",
        "vowels = \"aeiouAEIOU\"\n",
        "count = 0\n",
        "for char in string:\n",
        "    if char in vowels:\n",
        "        count += 1\n",
        "\n",
        "print(f\"✅ Number of vowels in the string: {count}\")\n"
      ],
      "metadata": {
        "colab": {
          "base_uri": "https://localhost:8080/"
        },
        "id": "7RbmhkJkCHul",
        "outputId": "e6e23cea-a951-4f8e-f7df-14fb86920bc6"
      },
      "execution_count": 2,
      "outputs": [
        {
          "output_type": "stream",
          "name": "stdout",
          "text": [
            "Enter a string: Saksham\n",
            "✅ Number of vowels in the string: 2\n"
          ]
        }
      ]
    },
    {
      "cell_type": "code",
      "source": [
        "#Find duplicate elements in a list\n",
        "my_list = [1, 2, 3, 2, 4, 5, 1, 6, 3]\n",
        "seen = set()\n",
        "duplicates = set()\n",
        "\n",
        "for item in my_list:\n",
        "    if item in seen:\n",
        "        duplicates.add(item)\n",
        "    else:\n",
        "        seen.add(item)\n",
        "\n",
        "print(f\"✅ Duplicate elements are: {list(duplicates)}\")\n"
      ],
      "metadata": {
        "colab": {
          "base_uri": "https://localhost:8080/"
        },
        "id": "iwWCCI-eCXIV",
        "outputId": "6151fcc8-1832-4474-c840-ad60fa2d3767"
      },
      "execution_count": null,
      "outputs": [
        {
          "output_type": "stream",
          "name": "stdout",
          "text": [
            "✅ Duplicate elements are: [1, 2, 3]\n"
          ]
        }
      ]
    },
    {
      "cell_type": "code",
      "source": [
        "#Check if two strings are anagrams\n",
        "string1 = input(\"Enter the first string: \")\n",
        "string2 = input(\"Enter the second string: \")\n",
        "def are_anagrams(str1, str2):\n",
        "    cleaned_str1 = str1.replace(\" \", \"\").lower()\n",
        "    cleaned_str2 = str2.replace(\" \", \"\").lower()\n",
        "    return sorted(cleaned_str1) == sorted(cleaned_str2)\n",
        "if are_anagrams(string1, string2):\n",
        "    print(\"The strings are anagrams.\")\n",
        "else:\n",
        "    print(\"The strings are not anagrams.\")"
      ],
      "metadata": {
        "colab": {
          "base_uri": "https://localhost:8080/"
        },
        "id": "UObCHN7uCnfx",
        "outputId": "d76f9793-e9ec-409b-8494-02b9b4ecad13"
      },
      "execution_count": null,
      "outputs": [
        {
          "output_type": "stream",
          "name": "stdout",
          "text": [
            "Enter the first string: Silent\n",
            "Enter the second string: Listen\n",
            "The strings are anagrams.\n"
          ]
        }
      ]
    },
    {
      "cell_type": "code",
      "source": [
        "#merge two sorted list\n",
        "\n",
        "def merge_sorted_lists(list1, list2):\n",
        "  merged_list = []\n",
        "  i = 0\n",
        "  j = 0\n",
        "  while i < len(list1) and j < len(list2):\n",
        "    if list1[i] <= list2[j]:\n",
        "      merged_list.append(list1[i])\n",
        "      i += 1\n",
        "    else:\n",
        "      merged_list.append(list2[j])\n",
        "      j += 1\n",
        "  while i < len(list1):\n",
        "    merged_list.append(list1[i])\n",
        "    i += 1\n",
        "  while j < len(list2):\n",
        "    merged_list.append(list2[j])\n",
        "    j += 1\n",
        "  return merged_list\n",
        "list1 = [1, 3, 5, 7]\n",
        "list2 = [2, 4, 6, 8]\n",
        "merged = merge_sorted_lists(list1, list2)\n",
        "merged"
      ],
      "metadata": {
        "colab": {
          "base_uri": "https://localhost:8080/"
        },
        "id": "7m1PEyJAC3Zy",
        "outputId": "023e87ce-5665-4ae3-b79e-2aabe151517c"
      },
      "execution_count": null,
      "outputs": [
        {
          "output_type": "execute_result",
          "data": {
            "text/plain": [
              "[1, 2, 3, 4, 5, 6, 7, 8]"
            ]
          },
          "metadata": {},
          "execution_count": 13
        }
      ]
    },
    {
      "cell_type": "code",
      "source": [
        "#Find missing numbers in range 1 to n\n",
        "nums = [1, 2, 4, 6, 7, 9]\n",
        "n = 10\n",
        "full_set = set(range(1, n + 1))\n",
        "num_set = set(nums)\n",
        "missing_numbers = list(full_set - num_set)\n",
        "missing_numbers.sort()\n",
        "print(f\"✅ Missing numbers from 1 to {n}: {missing_numbers}\")\n",
        "\n"
      ],
      "metadata": {
        "colab": {
          "base_uri": "https://localhost:8080/"
        },
        "id": "-IunY9wlDQyw",
        "outputId": "f0a19921-3273-46f1-b667-fc738566bfcc"
      },
      "execution_count": null,
      "outputs": [
        {
          "output_type": "stream",
          "name": "stdout",
          "text": [
            "✅ Missing numbers from 1 to 10: [3, 5, 8, 10]\n"
          ]
        }
      ]
    },
    {
      "cell_type": "code",
      "source": [
        "#Check if a number is Armstrong or not\n",
        "num = int(input(\"Enter a number: \"))\n",
        "num_str = str(num)\n",
        "power = len(num_str)\n",
        "sum_of_powers = sum(int(digit) ** power for digit in num_str)\n",
        "if num == sum_of_powers:\n",
        "    print(f\" {num} is an Armstrong number.\")\n",
        "else:\n",
        "    print(f\"{num} is not an Armstrong number.\")\n"
      ],
      "metadata": {
        "colab": {
          "base_uri": "https://localhost:8080/"
        },
        "id": "MrENa8T2DYn9",
        "outputId": "3efb209f-5153-4315-c1ff-d25832a98c38"
      },
      "execution_count": null,
      "outputs": [
        {
          "output_type": "stream",
          "name": "stdout",
          "text": [
            "Enter a number: 145\n",
            "❌ 145 is not an Armstrong number.\n"
          ]
        }
      ]
    },
    {
      "cell_type": "code",
      "source": [
        "# check if a string is a pangram\n",
        "import string\n",
        "def is_pangram(text):\n",
        "    alphabet = set(string.ascii_lowercase)\n",
        "    return alphabet <= set(text.lower())\n",
        "text = input(\"Enter a string: \")\n",
        "if is_pangram(text):\n",
        "    print(\"It is a pangram.\")\n",
        "else:\n",
        "    print(\"It is not a pangram.\")"
      ],
      "metadata": {
        "colab": {
          "base_uri": "https://localhost:8080/"
        },
        "id": "nYAIKL70EEfb",
        "outputId": "b07c90a9-9269-419a-cb63-cad70a5b203a"
      },
      "execution_count": null,
      "outputs": [
        {
          "output_type": "stream",
          "name": "stdout",
          "text": [
            "Enter a string: The quick brown fox jumps over the lazy dog\n",
            "It is a pangram.\n"
          ]
        }
      ]
    },
    {
      "cell_type": "code",
      "source": [
        "# remove duplicate from list\n",
        "my_list = [1, 2, 3, 2, 4, 5, 1, 6, 3]\n",
        "# Using set to automatically handle duplicates\n",
        "unique_list = list(set(my_list))\n",
        "print(f\"✅ List with duplicates removed: {unique_list}\")"
      ],
      "metadata": {
        "colab": {
          "base_uri": "https://localhost:8080/"
        },
        "id": "c8Fd288NETNP",
        "outputId": "07d03dc2-d2f5-4404-fd71-f98b701beea8"
      },
      "execution_count": null,
      "outputs": [
        {
          "output_type": "stream",
          "name": "stdout",
          "text": [
            "✅ List with duplicates removed: [1, 2, 3, 4, 5, 6]\n"
          ]
        }
      ]
    },
    {
      "cell_type": "code",
      "source": [
        "#Find the second largest number in a list\n",
        "numbers = [12, 45, 78, 23, 89, 45, 89, 67]\n",
        "unique_numbers = list(set(numbers))\n",
        "unique_numbers.sort()\n",
        "if len(unique_numbers) < 2:\n",
        "    print(\" Second largest number not found (list has less than 2 unique elements).\")\n",
        "else:\n",
        "    print(f\" Second largest number is: {unique_numbers[-2]}\")\n"
      ],
      "metadata": {
        "colab": {
          "base_uri": "https://localhost:8080/"
        },
        "id": "rmP8o4yPEuQW",
        "outputId": "dbae6876-06c4-409c-e174-c59b420c912a"
      },
      "execution_count": null,
      "outputs": [
        {
          "output_type": "stream",
          "name": "stdout",
          "text": [
            " Second largest number is: 78\n"
          ]
        }
      ]
    },
    {
      "cell_type": "code",
      "source": [
        "#Count occurences of elements in a list\n",
        "from collections import Counter\n",
        "my_list = ['apple', 'banana', 'apple', 'orange', 'banana', 'apple']\n",
        "count = Counter(my_list)\n",
        "print(\" Occurrences of each element:\")\n",
        "for item, freq in count.items():\n",
        "    print(f\"{item}: {freq}\")\n"
      ],
      "metadata": {
        "colab": {
          "base_uri": "https://localhost:8080/"
        },
        "id": "iyrC8F2UFFAS",
        "outputId": "e74a6b07-e3ba-4bd0-b69c-be526c3c9257"
      },
      "execution_count": null,
      "outputs": [
        {
          "output_type": "stream",
          "name": "stdout",
          "text": [
            " Occurrences of each element:\n",
            "apple: 3\n",
            "banana: 2\n",
            "orange: 1\n"
          ]
        }
      ]
    },
    {
      "cell_type": "code",
      "source": [
        "#Transpose a matrix\n",
        "matrix = [\n",
        "    [12, 24, 31],\n",
        "    [47, 54, 68]\n",
        "]\n",
        "\n",
        "rows = len(matrix)\n",
        "cols = len(matrix[0])\n",
        "transpose = []\n",
        "for j in range(cols):\n",
        "    new_row = []\n",
        "    for i in range(rows):\n",
        "        new_row.append(matrix[i][j])\n",
        "    transpose.append(new_row)\n",
        "print(\"Transposed Matrix:\")\n",
        "for row in transpose:\n",
        "    print(row)\n"
      ],
      "metadata": {
        "colab": {
          "base_uri": "https://localhost:8080/"
        },
        "id": "IhmpyK4jFWzZ",
        "outputId": "ba0b5fa7-a001-4b28-e9ef-3cee574387b4"
      },
      "execution_count": null,
      "outputs": [
        {
          "output_type": "stream",
          "name": "stdout",
          "text": [
            "Transposed Matrix:\n",
            "[12, 47]\n",
            "[24, 54]\n",
            "[31, 68]\n"
          ]
        }
      ]
    },
    {
      "cell_type": "code",
      "source": [
        "#implement linear search\n",
        "def linear_search(arr, target):\n",
        "    for i in range(len(arr)):\n",
        "        if arr[i] == target:\n",
        "            return i\n",
        "arr = [10, 25, 33, 47, 59, 60]\n",
        "target = int(input(\"Enter the number to search: \"))\n",
        "index = linear_search(arr, target)\n",
        "if index != -1:\n",
        "    print(f\" Element found at index {index}\")\n",
        "else:\n",
        "    print(\" Element not found in the list.\")\n"
      ],
      "metadata": {
        "colab": {
          "base_uri": "https://localhost:8080/"
        },
        "id": "wta4sPNdFrdZ",
        "outputId": "833180b9-d7d9-492b-a01d-baad638c6361"
      },
      "execution_count": null,
      "outputs": [
        {
          "output_type": "stream",
          "name": "stdout",
          "text": [
            "Enter the number to search: 60\n",
            " Element found at index 5\n"
          ]
        }
      ]
    },
    {
      "cell_type": "code",
      "source": [
        "#Implement binary search\n",
        "def binary_search(arr, target):\n",
        "    low = 0\n",
        "    high = len(arr) - 1\n",
        "\n",
        "    while low <= high:\n",
        "        mid = (low + high) // 2\n",
        "\n",
        "        if arr[mid] == target:\n",
        "            return mid\n",
        "        elif arr[mid] < target:\n",
        "            low = mid + 1\n",
        "        else:\n",
        "            high = mid - 1\n",
        "    return -1\n",
        "arr = [10, 20, 30, 40, 50, 60, 70]\n",
        "target = int(input(\"Enter the number to search: \"))\n",
        "result = binary_search(arr, target)\n",
        "if result != -1:\n",
        "    print(f\" Element found at index {result}\")\n",
        "else:\n",
        "    print(\"Element not found in the list.\")\n"
      ],
      "metadata": {
        "colab": {
          "base_uri": "https://localhost:8080/"
        },
        "id": "FUu0wsuOGCD9",
        "outputId": "0cf72203-a007-4985-cb1b-70afa6154d2c"
      },
      "execution_count": null,
      "outputs": [
        {
          "output_type": "stream",
          "name": "stdout",
          "text": [
            "Enter the number to search: 40\n",
            " Element found at index 3\n"
          ]
        }
      ]
    },
    {
      "cell_type": "code",
      "source": [
        "#find intersection of two lists\n",
        "list1 = [1, 2, 3, 4, 5]\n",
        "list2 = [4, 5, 6, 7, 8]\n",
        "intersection = list(set(list1) & set(list2))\n",
        "\n",
        "print(f\"✅ Intersection: {intersection}\")\n"
      ],
      "metadata": {
        "colab": {
          "base_uri": "https://localhost:8080/"
        },
        "id": "kMzdO9bAGVpI",
        "outputId": "a01f7860-b894-436e-dfd3-c690563fc342"
      },
      "execution_count": null,
      "outputs": [
        {
          "output_type": "stream",
          "name": "stdout",
          "text": [
            "✅ Intersection: [4, 5]\n"
          ]
        }
      ]
    },
    {
      "cell_type": "code",
      "source": [
        "#Flatten a nested list\n",
        "nested = [[1, 2], [3, 4], [5, 6]]\n",
        "flattened = [item for sublist in nested for item in sublist]\n",
        "print(\" Flattened list:\", flattened)\n"
      ],
      "metadata": {
        "colab": {
          "base_uri": "https://localhost:8080/"
        },
        "id": "a-8HU6wbGkj3",
        "outputId": "ae2ed924-65c6-4384-d5ce-8e87ebcc301d"
      },
      "execution_count": null,
      "outputs": [
        {
          "output_type": "stream",
          "name": "stdout",
          "text": [
            " Flattened list: [1, 2, 3, 4, 5, 6]\n"
          ]
        }
      ]
    },
    {
      "cell_type": "code",
      "source": [
        "#find all armstrong numbers in range\n",
        "def is_armstrong(num):\n",
        "    power = len(str(num))\n",
        "    total = sum(int(digit) ** power for digit in str(num))\n",
        "    return num == total\n",
        "start = int(input(\"Enter start of range: \"))\n",
        "end = int(input(\"Enter end of range: \"))\n",
        "print(f\"Armstrong numbers between {start} and {end} are:\")\n",
        "for number in range(start, end + 1):\n",
        "    if is_armstrong(number):\n",
        "        print(number)\n"
      ],
      "metadata": {
        "colab": {
          "base_uri": "https://localhost:8080/"
        },
        "id": "NBRQTRgGHdyn",
        "outputId": "a1208957-823c-4ea2-e28a-769d2dec1af6"
      },
      "execution_count": null,
      "outputs": [
        {
          "output_type": "stream",
          "name": "stdout",
          "text": [
            "Enter start of range: 1\n",
            "Enter end of range: 100\n",
            "Armstrong numbers between 1 and 100 are:\n",
            "1\n",
            "2\n",
            "3\n",
            "4\n",
            "5\n",
            "6\n",
            "7\n",
            "8\n",
            "9\n"
          ]
        }
      ]
    },
    {
      "cell_type": "code",
      "source": [
        "#count number of words in a string\n",
        "text = input(\"Enter a sentence: \")\n",
        "words = text.split()\n",
        "print(f\"✅ Number of words: {len(words)}\")\n"
      ],
      "metadata": {
        "colab": {
          "base_uri": "https://localhost:8080/"
        },
        "id": "0yJ841neH5-q",
        "outputId": "7801672c-ba1f-4840-f17c-5e5188b5e94e"
      },
      "execution_count": null,
      "outputs": [
        {
          "output_type": "stream",
          "name": "stdout",
          "text": [
            "Enter a sentence: the dog name is max\n",
            "✅ Number of words: 5\n"
          ]
        }
      ]
    },
    {
      "cell_type": "code",
      "source": [
        "#Implement string compression\n",
        "def compress_string(s):\n",
        "    if not s:\n",
        "        return \"\"\n",
        "\n",
        "    result = \"\"\n",
        "    count = 1\n",
        "\n",
        "    for i in range(1, len(s)):\n",
        "        if s[i] == s[i - 1]:\n",
        "            count += 1\n",
        "        else:\n",
        "            result += s[i - 1] + str(count)\n",
        "            count = 1\n",
        "    result += s[-1] + str(count)\n",
        "    return result\n",
        "input_str = input(\"Enter a string: \")\n",
        "compressed = compress_string(input_str)\n",
        "print(f\"✅ Compressed string: {compressed}\")\n"
      ],
      "metadata": {
        "colab": {
          "base_uri": "https://localhost:8080/"
        },
        "id": "K9etVOggIm-I",
        "outputId": "7404e2f7-68eb-4854-cefb-d481391c6299"
      },
      "execution_count": null,
      "outputs": [
        {
          "output_type": "stream",
          "name": "stdout",
          "text": [
            "Enter a string: aaabbcc\n",
            "✅ Compressed string: a3b2c2\n"
          ]
        }
      ]
    },
    {
      "cell_type": "code",
      "source": [
        "#print pascal's trianlge upto n rows\n",
        "def pascal_triangle(n):\n",
        "    for i in range(n):\n",
        "\n",
        "        print(' ' * (n - i), end='')\n",
        "\n",
        "        val = 1\n",
        "        for j in range(i + 1):\n",
        "            print(val, end=' ')\n",
        "            val = val * (i - j) // (j + 1)\n",
        "        print()\n",
        "n = int(input(\"Enter number of rows: \"))\n",
        "print(\"Pascal's Triangle:\")\n",
        "pascal_triangle(n)\n"
      ],
      "metadata": {
        "colab": {
          "base_uri": "https://localhost:8080/"
        },
        "id": "aWIjTb1oJH0v",
        "outputId": "baed004f-11ca-468f-ee6b-1d8460ea8d24"
      },
      "execution_count": null,
      "outputs": [
        {
          "output_type": "stream",
          "name": "stdout",
          "text": [
            "Enter number of rows: 3\n",
            "✅ Pascal's Triangle:\n",
            "   1 \n",
            "  1 1 \n",
            " 1 2 1 \n"
          ]
        }
      ]
    },
    {
      "cell_type": "code",
      "source": [
        "#find the majority element in a list\n",
        "from collections import Counter\n",
        "def find_majority(nums):\n",
        "    count = Counter(nums)\n",
        "    n = len(nums)\n",
        "    for num, freq in count.items():\n",
        "        if freq > n // 2:\n",
        "            return num\n",
        "    return None\n",
        "nums = [3, 3, 4, 3, 2, 3, 3]\n",
        "result = find_majority(nums)\n",
        "\n",
        "if result:\n",
        "    print(f\" Majority element is: {result}\")\n",
        "else:\n",
        "    print(\" No majority element found.\")\n"
      ],
      "metadata": {
        "colab": {
          "base_uri": "https://localhost:8080/"
        },
        "id": "wSTv9az9Jidj",
        "outputId": "4c9f05e9-7ab0-48b4-848f-3cadf0c2653c"
      },
      "execution_count": null,
      "outputs": [
        {
          "output_type": "stream",
          "name": "stdout",
          "text": [
            " Majority element is: 3\n"
          ]
        }
      ]
    },
    {
      "cell_type": "code",
      "source": [
        "#Move all zeros to end of list\n",
        "def move_zeros(nums):\n",
        "    non_zeros = [x for x in nums if x != 0]\n",
        "    zeros = [0] * (len(nums) - len(non_zeros))\n",
        "    return non_zeros + zeros\n",
        "nums = [0, 1, 0, 3, 12]\n",
        "result = move_zeros(nums)\n",
        "print(\"Result:\", result)\n"
      ],
      "metadata": {
        "colab": {
          "base_uri": "https://localhost:8080/"
        },
        "id": "VDB1p_xqKAIz",
        "outputId": "d8cbd080-3d6b-4ce4-d606-8dbe141f2ff8"
      },
      "execution_count": null,
      "outputs": [
        {
          "output_type": "stream",
          "name": "stdout",
          "text": [
            "Result: [1, 3, 12, 0, 0]\n"
          ]
        }
      ]
    },
    {
      "cell_type": "code",
      "source": [
        "#Implement a stack using list\n",
        "class Stack:\n",
        "    def __init__(self):\n",
        "        self.stack = []\n",
        "    def push(self, item):\n",
        "        self.stack.append(item)\n",
        "    def pop(self):\n",
        "        if not self.is_empty():\n",
        "            return self.stack.pop()\n",
        "        return \"Stack Underflow\"\n",
        "    def peek(self):\n",
        "        if not self.is_empty():\n",
        "            return self.stack[-1]\n",
        "        return \"Stack is empty\"\n",
        "    def is_empty(self):\n",
        "        return len(self.stack) == 0\n",
        "    def size(self):\n",
        "        return len(self.stack)\n",
        "    def display(self):\n",
        "        print(\"Stack (top to bottom):\", list(reversed(self.stack)))\n",
        "s = Stack()\n",
        "s.push(10)\n",
        "s.push(20)\n",
        "s.push(30)\n",
        "s.display()\n",
        "\n",
        "print(\"Top element:\", s.peek())\n",
        "print(\"Popped:\", s.pop())\n",
        "s.display()\n"
      ],
      "metadata": {
        "colab": {
          "base_uri": "https://localhost:8080/"
        },
        "id": "iabOzcDKKREt",
        "outputId": "edb64a65-e8f5-4af2-97f8-f3c3a7ac1f06"
      },
      "execution_count": null,
      "outputs": [
        {
          "output_type": "stream",
          "name": "stdout",
          "text": [
            "Stack (top to bottom): [30, 20, 10]\n",
            "Top element: 30\n",
            "Popped: 30\n",
            "Stack (top to bottom): [20, 10]\n"
          ]
        }
      ]
    },
    {
      "cell_type": "code",
      "source": [
        "#Rotate a list by k elements\n",
        "def rotate_right(lst, k):\n",
        "    k = k % len(lst)\n",
        "    return lst[-k:] + lst[:-k]\n",
        "lst = [1, 2, 3, 4, 5]\n",
        "k = 2\n",
        "rotated = rotate_right(lst, k)\n",
        "print(\"🔁 Right Rotated List:\", rotated)\n",
        "\n"
      ],
      "metadata": {
        "colab": {
          "base_uri": "https://localhost:8080/"
        },
        "id": "VUsjZB7qKrcL",
        "outputId": "be00c666-0f9b-42de-d0b4-69628a7eb6f9"
      },
      "execution_count": null,
      "outputs": [
        {
          "output_type": "stream",
          "name": "stdout",
          "text": [
            "🔁 Right Rotated List: [4, 5, 1, 2, 3]\n"
          ]
        }
      ]
    },
    {
      "cell_type": "code",
      "source": [
        "#Check if list is sorted\n",
        "def is_sorted_ascending(lst):\n",
        "    return lst == sorted(lst)\n",
        "lst = [1, 2, 3, 4, 5]\n",
        "print(\" List is sorted (ascending)\" if is_sorted_ascending(lst) else \"List is not sorted\")\n"
      ],
      "metadata": {
        "colab": {
          "base_uri": "https://localhost:8080/"
        },
        "id": "CP-UWAgvLFI5",
        "outputId": "aaad205c-1b56-471a-98dd-9173c9b97f99"
      },
      "execution_count": null,
      "outputs": [
        {
          "output_type": "stream",
          "name": "stdout",
          "text": [
            " List is sorted (ascending)\n"
          ]
        }
      ]
    },
    {
      "cell_type": "code",
      "source": [],
      "metadata": {
        "id": "BjZf_KuLLfl6"
      },
      "execution_count": null,
      "outputs": []
    }
  ]
}