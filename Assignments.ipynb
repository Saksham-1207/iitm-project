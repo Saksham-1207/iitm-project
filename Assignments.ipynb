{
 "cells": [
  {
   "cell_type": "code",
   "execution_count": 1,
   "id": "b27c16ee-f9eb-4f3d-823e-8a2c3f4fad64",
   "metadata": {},
   "outputs": [
    {
     "name": "stdin",
     "output_type": "stream",
     "text": [
      "Enter your age:  22\n"
     ]
    },
    {
     "name": "stdout",
     "output_type": "stream",
     "text": [
      "You are eligible for voting and driving.\n"
     ]
    }
   ],
   "source": [
    "age = int(input(\"Enter your age: \"))\n",
    "\n",
    "if age >= 18:\n",
    "    print(\"You are eligible for voting and driving.\")\n",
    "elif age >= 16:\n",
    "    print(\"You are eligible for driving a two-wheeler (depending on country).\")\n",
    "else:\n",
    "    print(\"You are not eligible for voting or driving yet.\")\n",
    "    "
   ]
  },
  {
   "cell_type": "code",
   "execution_count": 2,
   "id": "4fea130f-5eff-4fe0-9b1b-f0848a8b7e18",
   "metadata": {},
   "outputs": [
    {
     "name": "stdin",
     "output_type": "stream",
     "text": [
      "Enter first number:  45\n",
      "Enter second number:  322\n",
      "Choose operation (+, -, *, /):  +\n"
     ]
    },
    {
     "name": "stdout",
     "output_type": "stream",
     "text": [
      "Result: 367.0\n"
     ]
    }
   ],
   "source": [
    "num1 = float(input(\"Enter first number: \"))\n",
    "num2 = float(input(\"Enter second number: \"))\n",
    "operator = input(\"Choose operation (+, -, *, /): \")\n",
    "\n",
    "if operator == '+':\n",
    "    print(\"Result:\", num1 + num2)\n",
    "elif operator == '-':\n",
    "    print(\"Result:\", num1 - num2)\n",
    "elif operator == '*':\n",
    "    print(\"Result:\", num1 * num2)\n",
    "elif operator == '/':\n",
    "    if num2 != 0:\n",
    "        print(\"Result:\", num1 / num2)\n",
    "    else:\n",
    "        print(\"Error: Cannot divide by zero\")\n",
    "else:\n",
    "    print(\"Invalid operator\")\n",
    "    "
   ]
  },
  {
   "cell_type": "code",
   "execution_count": 3,
   "id": "845e287c-9dec-477c-8db1-bf517b27d416",
   "metadata": {},
   "outputs": [
    {
     "name": "stdin",
     "output_type": "stream",
     "text": [
      "Enter your marks:  89\n"
     ]
    },
    {
     "name": "stdout",
     "output_type": "stream",
     "text": [
      "Your Grade is: B\n"
     ]
    }
   ],
   "source": [
    "marks = int(input(\"Enter your marks: \"))\n",
    "\n",
    "if marks >= 90:\n",
    "    grade = \"A\"\n",
    "elif marks >= 80:\n",
    "    grade = \"B\"\n",
    "elif marks >= 70:\n",
    "    grade = \"C\"\n",
    "elif marks >= 60:\n",
    "    grade = \"D\"\n",
    "elif marks >= 40:\n",
    "    grade = \"E\"\n",
    "else:\n",
    "    grade = \"F (Fail)\"\n",
    "\n",
    "print(\"Your Grade is:\", grade)\n"
   ]
  },
  {
   "cell_type": "code",
   "execution_count": 4,
   "id": "020ee7e9-2f96-4cad-a249-92cedd0b619d",
   "metadata": {},
   "outputs": [
    {
     "name": "stdin",
     "output_type": "stream",
     "text": [
      "Enter your age:  23\n"
     ]
    },
    {
     "name": "stdout",
     "output_type": "stream",
     "text": [
      "Ticket Fare: ₹ 100.0\n"
     ]
    }
   ],
   "source": [
    "age = int(input(\"Enter your age: \"))\n",
    "fare = 100  \n",
    "\n",
    "if age <= 5:\n",
    "    discount = 1.0  \n",
    "elif age <= 12:\n",
    "    discount = 0.5  \n",
    "elif age >= 60:\n",
    "    discount = 0.3  \n",
    "else:\n",
    "    discount = 0.0  \n",
    "\n",
    "final_fare = fare * (1 - discount)\n",
    "print(\"Ticket Fare: ₹\", final_fare)"
   ]
  },
  {
   "cell_type": "code",
   "execution_count": 5,
   "id": "5e8ac15e-a448-4d6d-9674-8924de108a77",
   "metadata": {},
   "outputs": [
    {
     "name": "stdin",
     "output_type": "stream",
     "text": [
      "Enter electricity units consumed:  300\n"
     ]
    },
    {
     "name": "stdout",
     "output_type": "stream",
     "text": [
      "Your electricity bill is: ₹ 3000\n"
     ]
    }
   ],
   "source": [
    "units = int(input(\"Enter electricity units consumed: \"))\n",
    "\n",
    "if units <= 100:\n",
    "    rate = 5\n",
    "elif units <= 200:\n",
    "    rate = 7\n",
    "elif units <= 300:\n",
    "    rate = 10\n",
    "else:\n",
    "    rate = 12\n",
    "\n",
    "bill = units * rate\n",
    "print(\"Your electricity bill is: ₹\", bill)"
   ]
  },
  {
   "cell_type": "code",
   "execution_count": 6,
   "id": "0db789c0-7f8e-47ba-8aba-b344e628afa8",
   "metadata": {},
   "outputs": [
    {
     "name": "stdin",
     "output_type": "stream",
     "text": [
      "Enter number of overdue days:  41\n"
     ]
    },
    {
     "name": "stdout",
     "output_type": "stream",
     "text": [
      "Library fine is: ₹ 345\n"
     ]
    }
   ],
   "source": [
    "days = int(input(\"Enter number of overdue days: \"))\n",
    "\n",
    "if days <= 0:\n",
    "    fine = 0\n",
    "elif days <= 5:\n",
    "    fine = days * 2\n",
    "elif days <= 10:\n",
    "    fine = (5 * 2) + (days - 5) * 5\n",
    "else:\n",
    "    fine = (5 * 2) + (5 * 5) + (days - 10) * 10\n",
    "\n",
    "print(\"Library fine is: ₹\", fine)"
   ]
  },
  {
   "cell_type": "code",
   "execution_count": 7,
   "id": "228b96a6-926f-4487-b8c2-a0f074b65688",
   "metadata": {},
   "outputs": [
    {
     "name": "stdin",
     "output_type": "stream",
     "text": [
      "Enter username:  admin\n",
      "Enter password:  1234\n"
     ]
    },
    {
     "name": "stdout",
     "output_type": "stream",
     "text": [
      "Login Successful!\n"
     ]
    }
   ],
   "source": [
    "correct_username = \"admin\"\n",
    "correct_password = \"1234\"\n",
    "attempts = 3\n",
    "while attempts > 0:\n",
    "    username = input(\"Enter username: \")\n",
    "    password = input(\"Enter password: \")\n",
    "\n",
    "    if username == correct_username and password == correct_password:\n",
    "        print(\"Login Successful!\")\n",
    "        break\n",
    "    else:\n",
    "        attempts -= 1\n",
    "        print(\"Incorrect credentials. Attempts left:\", attempts)\n",
    "if attempts == 0:\n",
    "    print(\"Account locked. Too many failed attempts.\")\n",
    "    "
   ]
  },
  {
   "cell_type": "code",
   "execution_count": null,
   "id": "d9db4ad3-800e-47ac-936a-f333bcedfac9",
   "metadata": {},
   "outputs": [],
   "source": []
  }
 ],
 "metadata": {
  "kernelspec": {
   "display_name": "Python 3 (ipykernel)",
   "language": "python",
   "name": "python3"
  },
  "language_info": {
   "codemirror_mode": {
    "name": "ipython",
    "version": 3
   },
   "file_extension": ".py",
   "mimetype": "text/x-python",
   "name": "python",
   "nbconvert_exporter": "python",
   "pygments_lexer": "ipython3",
   "version": "3.12.4"
  }
 },
 "nbformat": 4,
 "nbformat_minor": 5
}
